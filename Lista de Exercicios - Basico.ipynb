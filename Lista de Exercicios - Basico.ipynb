{
 "cells": [
  {
   "cell_type": "code",
   "execution_count": 5,
   "id": "f9211156",
   "metadata": {},
   "outputs": [
    {
     "name": "stdout",
     "output_type": "stream",
     "text": [
      "\n",
      "Informe um numero interio: 259\n",
      "\n",
      "Informe um segundo numero inteiro: 745\n",
      "\n",
      "A soma entre 259 + 745 = 1004\n"
     ]
    }
   ],
   "source": [
    "# Faça um programa que peça dois números inteiros e imprima a soma de dois números\n",
    "\n",
    "num1 = int(input('\\nInforme um numero interio: '))\n",
    "num2 = int(input('\\nInforme um segundo numero inteiro: '))\n",
    "\n",
    "soma = num1 + num2\n",
    "print(f'\\nA soma entre {num1} + {num2} = {soma}')"
   ]
  },
  {
   "cell_type": "code",
   "execution_count": 5,
   "id": "d406f66b",
   "metadata": {},
   "outputs": [
    {
     "name": "stdout",
     "output_type": "stream",
     "text": [
      "Insira aqui uma medida em metros: 54\n",
      "54.0 convertido para milímetros é igual a 54000.0 milímetros\n"
     ]
    }
   ],
   "source": [
    "# Escreva um programa que leia um valor em metros e o exiba convertido em milímetros, aceitar virgulas na entrada do usuário:\n",
    "valor_input = input('Insira aqui uma medida em metros: ')\n",
    "valor_input = valor_input.replace(',', '.')  # Substitui vírgulas por pontos\n",
    "\n",
    "metro = float(valor_input)  # Converte para número de ponto flutuante\n",
    "\n",
    "convert = metro * 1000\n",
    "\n",
    "print(f'{metro} convertido para milímetros é igual a {convert} milímetros')\n",
    "\n"
   ]
  },
  {
   "cell_type": "code",
   "execution_count": 7,
   "id": "2d353461",
   "metadata": {},
   "outputs": [
    {
     "name": "stdout",
     "output_type": "stream",
     "text": [
      "Informe uma hora inteira: 19\n",
      "Informe os minutos: 35\n",
      "Informe os segundos: 29\n",
      "A soma de: 19 horas, 35 minutos, 29 segundos.\n",
      "Gera o total em segundos: 70529 segundos.\n"
     ]
    }
   ],
   "source": [
    "# Escreva um programa que leia a quantidade de dias, horas, minutos e segundos do usuário. Calcule o total em segundos:\n",
    "\n",
    "hora = int(input('Informe uma hora inteira: '))\n",
    "minuto = int(input('Informe os minutos: '))\n",
    "seg = int(input('Informe os segundos: '))\n",
    "\n",
    "total_segundos = (hora * 3600) + (minuto * 60) + seg\n",
    "\n",
    "print(f'A soma de: {hora} horas, {minuto} minutos, {seg} segundos.')\n",
    "print(f'Gera o total em segundos: {total_segundos} segundos.')"
   ]
  },
  {
   "cell_type": "code",
   "execution_count": 21,
   "id": "521a0f9e",
   "metadata": {},
   "outputs": [
    {
     "name": "stdout",
     "output_type": "stream",
     "text": [
      "Informe aqui seu salario: 2500\n",
      "Informe a porcentagem do aumento: 12\n",
      "\n",
      "o salario de 2500.00, teve aumento de 12.0%, o salario com aumento ficou 2800.00\n"
     ]
    }
   ],
   "source": [
    "# Faça um programa que calcule o aumento de um salário. Ele deve solicitar o valor do salário e a porcentagem do aumento.\n",
    "# Exiba o valor do aumento e do novo salário:\n",
    "\n",
    "salario = float(input('Informe aqui seu salario: '))\n",
    "\n",
    "porcentagem_aumento = float(input('Informe a porcentagem do aumento: '))\n",
    " \n",
    "aumento = salario * (porcentagem_aumento / 100)\n",
    "\n",
    "novo_aumento = salario + aumento\n",
    "\n",
    "print(f'\\no salario de {salario:.2f}, teve aumento de {porcentagem_aumento}%, o salario com aumento ficou {novo_aumento:.2f}')"
   ]
  },
  {
   "cell_type": "code",
   "execution_count": 25,
   "id": "81688cc2",
   "metadata": {},
   "outputs": [
    {
     "name": "stdout",
     "output_type": "stream",
     "text": [
      "Coloque aqui o preço: 150\n",
      "Informe aqui o porcentual do desconto: 40\n",
      "Valor do desconto: R$ 60.00\n",
      "Preço a pagar: R$ 90.00\n"
     ]
    }
   ],
   "source": [
    "# Solicite o preço de uma mercadoria e o percentual de desconto. Exiba o valor do desconto e o preço a pagar:\n",
    "\n",
    "preco  = float(input('Coloque aqui o preço: '))\n",
    "\n",
    "desconto = float(input('Informe aqui o porcentual do desconto: '))\n",
    "\n",
    "percentual = preco * (desconto / 100)\n",
    "\n",
    "total_desc = preco - percentual\n",
    "\n",
    "print(f'Valor do desconto: R$ {percentual:.2f}')\n",
    "print(f'Preço a pagar: R$ {total_desc:.2f}')"
   ]
  },
  {
   "cell_type": "code",
   "execution_count": 35,
   "id": "56e65409",
   "metadata": {},
   "outputs": [
    {
     "name": "stdout",
     "output_type": "stream",
     "text": [
      "informe a distancia que ira percorre: 500\n",
      "Informe a velocidade media que sera usada duarante a viagem: 180\n",
      " tempo medio da viagem sera de 2.78 horas ou 166.67 minutos.\n"
     ]
    }
   ],
   "source": [
    "# Calcule o tempo de uma viagem de carro. Pergunte a distância a percorrer e a velocidade média esperada para a viagem:\n",
    "\n",
    "distancia = float(input('informe a distancia que ira percorre: '))\n",
    "velocidade = float(input('Informe a velocidade media que sera usada duarante a viagem: '))\n",
    "\n",
    "# Calcula o tempo da viagem tempo = distância / velocidade\n",
    "\n",
    "tempo_hora = distancia / velocidade\n",
    "\n",
    "# Converte o tempo de horas para minutos\n",
    "tempo_minutos = tempo_hora * 60\n",
    "\n",
    "print(f' tempo medio da viagem sera de {tempo_hora:.2f} horas ou {tempo_minutos:.2f} minutos.') "
   ]
  },
  {
   "cell_type": "code",
   "execution_count": 37,
   "id": "bceaf5cb",
   "metadata": {},
   "outputs": [
    {
     "name": "stdout",
     "output_type": "stream",
     "text": [
      "Digite a temperatura em graus Celsius: 32\n",
      "A temperatura de 32.00°C equivale a 89.60°F.\n",
      "Digite a temperatura em graus Fahrenheit: 95.4\n",
      "A temperatura de 95.40°F equivale a 35.22°C.\n"
     ]
    }
   ],
   "source": [
    "# Converta uma temperatura digitada em Celsius para Fahrenheit. F = 9*C/5 + 32. 8) \n",
    "# .Faça agora o contrário, de Fahrenheit para Celsius.\n",
    "\n",
    "celsius = float(input('Digite a temperatura em graus Celsius: '))\n",
    "\n",
    "# Calcula a temperatura em Fahrenheit\n",
    "fahrenheit = (celsius * 9/5) + 32\n",
    "\n",
    "print(f'A temperatura de {celsius:.2f}°C equivale a {fahrenheit:.2f}°F.')\n",
    "\n",
    "fahrenheit = float(input('Digite a temperatura em graus Fahrenheit: '))\n",
    "\n",
    "# Calcula a temperatura em Celsius\n",
    "celsius = (fahrenheit - 32) * 5/9\n",
    "\n",
    "print(f'A temperatura de {fahrenheit:.2f}°F equivale a {celsius:.2f}°C.')\n",
    "\n"
   ]
  }
 ],
 "metadata": {
  "kernelspec": {
   "display_name": "Python 3 (ipykernel)",
   "language": "python",
   "name": "python3"
  },
  "language_info": {
   "codemirror_mode": {
    "name": "ipython",
    "version": 3
   },
   "file_extension": ".py",
   "mimetype": "text/x-python",
   "name": "python",
   "nbconvert_exporter": "python",
   "pygments_lexer": "ipython3",
   "version": "3.10.9"
  }
 },
 "nbformat": 4,
 "nbformat_minor": 5
}
